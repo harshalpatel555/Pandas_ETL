{
 "cells": [
  {
   "cell_type": "code",
   "execution_count": 113,
   "metadata": {
    "collapsed": true,
    "pycharm": {
     "name": "#%%\n"
    }
   },
   "outputs": [],
   "source": [
    "import pandas as pd\n",
    "import numpy as np\n",
    "from config import API_KEY\n",
    "import requests"
   ]
  },
  {
   "cell_type": "code",
   "execution_count": 114,
   "outputs": [],
   "source": [
    "movie_id = 550\n",
    "url = 'https://api.themoviedb.org/3/movie/{}?api_key={}'.format(movie_id, API_KEY)\n",
    "\n",
    "r = requests.get(url)"
   ],
   "metadata": {
    "collapsed": false,
    "pycharm": {
     "name": "#%%\n"
    }
   }
  },
  {
   "cell_type": "code",
   "execution_count": 115,
   "outputs": [
    {
     "name": "stdout",
     "output_type": "stream",
     "text": [
      "{'adult': False, 'backdrop_path': '/yguBaPk5V0nZCcSBthre4YFMAgk.jpg', 'belongs_to_collection': None, 'budget': 63000000, 'genres': [{'id': 18, 'name': 'Drama'}], 'homepage': 'http://www.foxmovies.com/movies/fight-club', 'id': 550, 'imdb_id': 'tt0137523', 'original_language': 'en', 'original_title': 'Fight Club', 'overview': 'A ticking-time-bomb insomniac and a slippery soap salesman channel primal male aggression into a shocking new form of therapy. Their concept catches on, with underground \"fight clubs\" forming in every town, until an eccentric gets in the way and ignites an out-of-control spiral toward oblivion.', 'popularity': 43.135, 'poster_path': '/pB8BM7pdSp6B6Ih7QZ4DrQ3PmJK.jpg', 'production_companies': [{'id': 508, 'logo_path': '/7PzJdsLGlR7oW4J0J5Xcd0pHGRg.png', 'name': 'Regency Enterprises', 'origin_country': 'US'}, {'id': 711, 'logo_path': '/tEiIH5QesdheJmDAqQwvtN60727.png', 'name': 'Fox 2000 Pictures', 'origin_country': 'US'}, {'id': 20555, 'logo_path': '/hD8yEGUBlHOcfHYbujp71vD8gZp.png', 'name': 'Taurus Film', 'origin_country': 'DE'}, {'id': 54051, 'logo_path': None, 'name': 'Atman Entertainment', 'origin_country': ''}, {'id': 54052, 'logo_path': None, 'name': 'Knickerbocker Films', 'origin_country': 'US'}, {'id': 25, 'logo_path': '/qZCc1lty5FzX30aOCVRBLzaVmcp.png', 'name': '20th Century Fox', 'origin_country': 'US'}, {'id': 4700, 'logo_path': '/A32wmjrs9Psf4zw0uaixF0GXfxq.png', 'name': 'The Linson Company', 'origin_country': 'US'}], 'production_countries': [{'iso_3166_1': 'DE', 'name': 'Germany'}, {'iso_3166_1': 'US', 'name': 'United States of America'}], 'release_date': '1999-10-15', 'revenue': 100853753, 'runtime': 139, 'spoken_languages': [{'english_name': 'English', 'iso_639_1': 'en', 'name': 'English'}], 'status': 'Released', 'tagline': 'Mischief. Mayhem. Soap.', 'title': 'Fight Club', 'video': False, 'vote_average': 8.4, 'vote_count': 23061}\n"
     ]
    }
   ],
   "source": [
    "print(r.json())"
   ],
   "metadata": {
    "collapsed": false,
    "pycharm": {
     "name": "#%%\n"
    }
   }
  },
  {
   "cell_type": "code",
   "execution_count": 116,
   "outputs": [],
   "source": [
    "response_list = []\n",
    "\n",
    "for movie_id in range(550,556):\n",
    "    url = 'https://api.themoviedb.org/3/movie/{}?api_key={}'.format(movie_id, API_KEY)\n",
    "    r = requests.get(url)\n",
    "    response_list.append(r.json())"
   ],
   "metadata": {
    "collapsed": false,
    "pycharm": {
     "name": "#%%\n"
    }
   }
  },
  {
   "cell_type": "code",
   "execution_count": 117,
   "outputs": [],
   "source": [
    "input_df = pd.DataFrame.from_dict(response_list)"
   ],
   "metadata": {
    "collapsed": false,
    "pycharm": {
     "name": "#%%\n"
    }
   }
  },
  {
   "cell_type": "code",
   "execution_count": 118,
   "outputs": [
    {
     "data": {
      "text/plain": "   adult                     backdrop_path  \\\n0  False  /yguBaPk5V0nZCcSBthre4YFMAgk.jpg   \n1  False  /wMNs0x98yGMjJJ2cGjiR9luINqF.jpg   \n2  False  /k4JIHyAXaGHwAwT7y5Skd17f0Wl.jpg   \n3  False  /r3xsFBD1VTUusk393bBc7SsDUJe.jpg   \n4  False  /1qwXItFKqvKYyW1CwbYhxyUC8Pj.jpg   \n5  False                              None   \n\n                               belongs_to_collection    budget  \\\n0                                               None  63000000   \n1  {'id': 372257, 'name': 'The Poseidon Adventure...   5000000   \n2                                               None         0   \n3  {'id': 1952, 'name': 'USA: Land of Opportuniti...  10000000   \n4                                               None         0   \n5                                               None         0   \n\n                                              genres  \\\n0                      [{'id': 18, 'name': 'Drama'}]   \n1  [{'id': 28, 'name': 'Action'}, {'id': 12, 'nam...   \n2  [{'id': 18, 'name': 'Drama'}, {'id': 35, 'name...   \n3  [{'id': 80, 'name': 'Crime'}, {'id': 18, 'name...   \n4  [{'id': 18, 'name': 'Drama'}, {'id': 36, 'name...   \n5                   [{'id': 53, 'name': 'Thriller'}]   \n\n                                     homepage   id    imdb_id  \\\n0  http://www.foxmovies.com/movies/fight-club  550  tt0137523   \n1                                              551  tt0069113   \n2                                              552  tt0237539   \n3                                              553  tt0276919   \n4                                              554  tt0308476   \n5             http://www.luecke-im-system.de/  555  tt0442896   \n\n  original_language          original_title  ... release_date    revenue  \\\n0                en              Fight Club  ...   1999-10-15  100853753   \n1                en  The Poseidon Adventure  ...   1972-12-13   84563118   \n2                it         Pane e tulipani  ...   2000-03-03    8478434   \n3                en                Dogville  ...   2003-05-19   16680836   \n4                ru                 Кукушка  ...   2002-01-01          0   \n5                en                 Absolut  ...   2005-04-20          0   \n\n  runtime                                   spoken_languages    status  \\\n0     139  [{'english_name': 'English', 'iso_639_1': 'en'...  Released   \n1     117  [{'english_name': 'English', 'iso_639_1': 'en'...  Released   \n2     114  [{'english_name': 'Italian', 'iso_639_1': 'it'...  Released   \n3     178  [{'english_name': 'English', 'iso_639_1': 'en'...  Released   \n4     100  [{'english_name': 'German', 'iso_639_1': 'de',...  Released   \n5      94  [{'english_name': 'French', 'iso_639_1': 'fr',...  Released   \n\n                                  tagline                   title  video  \\\n0                 Mischief. Mayhem. Soap.              Fight Club  False   \n1                       Hell, Upside Down  The Poseidon Adventure  False   \n2      Imagine your life. Now go live it.        Bread and Tulips  False   \n3  A quiet little town not far from here.                Dogville  False   \n4   She's Making Peace One Man at a Time.              The Cuckoo  False   \n5                                                         Absolut  False   \n\n  vote_average vote_count  \n0          8.4      23061  \n1          7.2        605  \n2          7.3        194  \n3          7.8       1852  \n4          7.2         62  \n5          7.9         20  \n\n[6 rows x 25 columns]",
      "text/html": "<div>\n<style scoped>\n    .dataframe tbody tr th:only-of-type {\n        vertical-align: middle;\n    }\n\n    .dataframe tbody tr th {\n        vertical-align: top;\n    }\n\n    .dataframe thead th {\n        text-align: right;\n    }\n</style>\n<table border=\"1\" class=\"dataframe\">\n  <thead>\n    <tr style=\"text-align: right;\">\n      <th></th>\n      <th>adult</th>\n      <th>backdrop_path</th>\n      <th>belongs_to_collection</th>\n      <th>budget</th>\n      <th>genres</th>\n      <th>homepage</th>\n      <th>id</th>\n      <th>imdb_id</th>\n      <th>original_language</th>\n      <th>original_title</th>\n      <th>...</th>\n      <th>release_date</th>\n      <th>revenue</th>\n      <th>runtime</th>\n      <th>spoken_languages</th>\n      <th>status</th>\n      <th>tagline</th>\n      <th>title</th>\n      <th>video</th>\n      <th>vote_average</th>\n      <th>vote_count</th>\n    </tr>\n  </thead>\n  <tbody>\n    <tr>\n      <th>0</th>\n      <td>False</td>\n      <td>/yguBaPk5V0nZCcSBthre4YFMAgk.jpg</td>\n      <td>None</td>\n      <td>63000000</td>\n      <td>[{'id': 18, 'name': 'Drama'}]</td>\n      <td>http://www.foxmovies.com/movies/fight-club</td>\n      <td>550</td>\n      <td>tt0137523</td>\n      <td>en</td>\n      <td>Fight Club</td>\n      <td>...</td>\n      <td>1999-10-15</td>\n      <td>100853753</td>\n      <td>139</td>\n      <td>[{'english_name': 'English', 'iso_639_1': 'en'...</td>\n      <td>Released</td>\n      <td>Mischief. Mayhem. Soap.</td>\n      <td>Fight Club</td>\n      <td>False</td>\n      <td>8.4</td>\n      <td>23061</td>\n    </tr>\n    <tr>\n      <th>1</th>\n      <td>False</td>\n      <td>/wMNs0x98yGMjJJ2cGjiR9luINqF.jpg</td>\n      <td>{'id': 372257, 'name': 'The Poseidon Adventure...</td>\n      <td>5000000</td>\n      <td>[{'id': 28, 'name': 'Action'}, {'id': 12, 'nam...</td>\n      <td></td>\n      <td>551</td>\n      <td>tt0069113</td>\n      <td>en</td>\n      <td>The Poseidon Adventure</td>\n      <td>...</td>\n      <td>1972-12-13</td>\n      <td>84563118</td>\n      <td>117</td>\n      <td>[{'english_name': 'English', 'iso_639_1': 'en'...</td>\n      <td>Released</td>\n      <td>Hell, Upside Down</td>\n      <td>The Poseidon Adventure</td>\n      <td>False</td>\n      <td>7.2</td>\n      <td>605</td>\n    </tr>\n    <tr>\n      <th>2</th>\n      <td>False</td>\n      <td>/k4JIHyAXaGHwAwT7y5Skd17f0Wl.jpg</td>\n      <td>None</td>\n      <td>0</td>\n      <td>[{'id': 18, 'name': 'Drama'}, {'id': 35, 'name...</td>\n      <td></td>\n      <td>552</td>\n      <td>tt0237539</td>\n      <td>it</td>\n      <td>Pane e tulipani</td>\n      <td>...</td>\n      <td>2000-03-03</td>\n      <td>8478434</td>\n      <td>114</td>\n      <td>[{'english_name': 'Italian', 'iso_639_1': 'it'...</td>\n      <td>Released</td>\n      <td>Imagine your life. Now go live it.</td>\n      <td>Bread and Tulips</td>\n      <td>False</td>\n      <td>7.3</td>\n      <td>194</td>\n    </tr>\n    <tr>\n      <th>3</th>\n      <td>False</td>\n      <td>/r3xsFBD1VTUusk393bBc7SsDUJe.jpg</td>\n      <td>{'id': 1952, 'name': 'USA: Land of Opportuniti...</td>\n      <td>10000000</td>\n      <td>[{'id': 80, 'name': 'Crime'}, {'id': 18, 'name...</td>\n      <td></td>\n      <td>553</td>\n      <td>tt0276919</td>\n      <td>en</td>\n      <td>Dogville</td>\n      <td>...</td>\n      <td>2003-05-19</td>\n      <td>16680836</td>\n      <td>178</td>\n      <td>[{'english_name': 'English', 'iso_639_1': 'en'...</td>\n      <td>Released</td>\n      <td>A quiet little town not far from here.</td>\n      <td>Dogville</td>\n      <td>False</td>\n      <td>7.8</td>\n      <td>1852</td>\n    </tr>\n    <tr>\n      <th>4</th>\n      <td>False</td>\n      <td>/1qwXItFKqvKYyW1CwbYhxyUC8Pj.jpg</td>\n      <td>None</td>\n      <td>0</td>\n      <td>[{'id': 18, 'name': 'Drama'}, {'id': 36, 'name...</td>\n      <td></td>\n      <td>554</td>\n      <td>tt0308476</td>\n      <td>ru</td>\n      <td>Кукушка</td>\n      <td>...</td>\n      <td>2002-01-01</td>\n      <td>0</td>\n      <td>100</td>\n      <td>[{'english_name': 'German', 'iso_639_1': 'de',...</td>\n      <td>Released</td>\n      <td>She's Making Peace One Man at a Time.</td>\n      <td>The Cuckoo</td>\n      <td>False</td>\n      <td>7.2</td>\n      <td>62</td>\n    </tr>\n    <tr>\n      <th>5</th>\n      <td>False</td>\n      <td>None</td>\n      <td>None</td>\n      <td>0</td>\n      <td>[{'id': 53, 'name': 'Thriller'}]</td>\n      <td>http://www.luecke-im-system.de/</td>\n      <td>555</td>\n      <td>tt0442896</td>\n      <td>en</td>\n      <td>Absolut</td>\n      <td>...</td>\n      <td>2005-04-20</td>\n      <td>0</td>\n      <td>94</td>\n      <td>[{'english_name': 'French', 'iso_639_1': 'fr',...</td>\n      <td>Released</td>\n      <td></td>\n      <td>Absolut</td>\n      <td>False</td>\n      <td>7.9</td>\n      <td>20</td>\n    </tr>\n  </tbody>\n</table>\n<p>6 rows × 25 columns</p>\n</div>"
     },
     "execution_count": 118,
     "metadata": {},
     "output_type": "execute_result"
    }
   ],
   "source": [
    "input_df.head(1000)"
   ],
   "metadata": {
    "collapsed": false,
    "pycharm": {
     "name": "#%%\n"
    }
   }
  },
  {
   "cell_type": "code",
   "execution_count": 119,
   "outputs": [
    {
     "name": "stdout",
     "output_type": "stream",
     "text": [
      "adult                       bool\n",
      "backdrop_path             object\n",
      "belongs_to_collection     object\n",
      "budget                     int64\n",
      "genres                    object\n",
      "homepage                  object\n",
      "id                         int64\n",
      "imdb_id                   object\n",
      "original_language         object\n",
      "original_title            object\n",
      "overview                  object\n",
      "popularity               float64\n",
      "poster_path               object\n",
      "production_companies      object\n",
      "production_countries      object\n",
      "release_date              object\n",
      "revenue                    int64\n",
      "runtime                    int64\n",
      "spoken_languages          object\n",
      "status                    object\n",
      "tagline                   object\n",
      "title                     object\n",
      "video                       bool\n",
      "vote_average             float64\n",
      "vote_count                 int64\n",
      "dtype: object\n"
     ]
    }
   ],
   "source": [
    "print(input_df.dtypes)"
   ],
   "metadata": {
    "collapsed": false,
    "pycharm": {
     "name": "#%%\n"
    }
   }
  },
  {
   "cell_type": "code",
   "execution_count": 120,
   "outputs": [],
   "source": [
    "# input_df = input_df.astype(input_df.dtypes.apply(lambda x : x.name.replace(\"object\",'string')).to_dict())\n",
    "# input_df.dtypes"
   ],
   "metadata": {
    "collapsed": false,
    "pycharm": {
     "name": "#%%\n"
    }
   }
  },
  {
   "cell_type": "code",
   "execution_count": 121,
   "outputs": [],
   "source": [
    "df_columns = ['budget', 'genres', 'id', 'imdb_id', 'original_title', 'release_date', 'revenue', 'runtime']"
   ],
   "metadata": {
    "collapsed": false,
    "pycharm": {
     "name": "#%%\n"
    }
   }
  },
  {
   "cell_type": "code",
   "execution_count": 122,
   "outputs": [],
   "source": [
    "input_df = input_df[df_columns]"
   ],
   "metadata": {
    "collapsed": false,
    "pycharm": {
     "name": "#%%\n"
    }
   }
  },
  {
   "cell_type": "code",
   "execution_count": 123,
   "outputs": [
    {
     "data": {
      "text/plain": "     budget                                             genres   id  \\\n0  63000000                      [{'id': 18, 'name': 'Drama'}]  550   \n1   5000000  [{'id': 28, 'name': 'Action'}, {'id': 12, 'nam...  551   \n2         0  [{'id': 18, 'name': 'Drama'}, {'id': 35, 'name...  552   \n3  10000000  [{'id': 80, 'name': 'Crime'}, {'id': 18, 'name...  553   \n4         0  [{'id': 18, 'name': 'Drama'}, {'id': 36, 'name...  554   \n5         0                   [{'id': 53, 'name': 'Thriller'}]  555   \n\n     imdb_id          original_title release_date    revenue  runtime  \n0  tt0137523              Fight Club   1999-10-15  100853753      139  \n1  tt0069113  The Poseidon Adventure   1972-12-13   84563118      117  \n2  tt0237539         Pane e tulipani   2000-03-03    8478434      114  \n3  tt0276919                Dogville   2003-05-19   16680836      178  \n4  tt0308476                 Кукушка   2002-01-01          0      100  \n5  tt0442896                 Absolut   2005-04-20          0       94  ",
      "text/html": "<div>\n<style scoped>\n    .dataframe tbody tr th:only-of-type {\n        vertical-align: middle;\n    }\n\n    .dataframe tbody tr th {\n        vertical-align: top;\n    }\n\n    .dataframe thead th {\n        text-align: right;\n    }\n</style>\n<table border=\"1\" class=\"dataframe\">\n  <thead>\n    <tr style=\"text-align: right;\">\n      <th></th>\n      <th>budget</th>\n      <th>genres</th>\n      <th>id</th>\n      <th>imdb_id</th>\n      <th>original_title</th>\n      <th>release_date</th>\n      <th>revenue</th>\n      <th>runtime</th>\n    </tr>\n  </thead>\n  <tbody>\n    <tr>\n      <th>0</th>\n      <td>63000000</td>\n      <td>[{'id': 18, 'name': 'Drama'}]</td>\n      <td>550</td>\n      <td>tt0137523</td>\n      <td>Fight Club</td>\n      <td>1999-10-15</td>\n      <td>100853753</td>\n      <td>139</td>\n    </tr>\n    <tr>\n      <th>1</th>\n      <td>5000000</td>\n      <td>[{'id': 28, 'name': 'Action'}, {'id': 12, 'nam...</td>\n      <td>551</td>\n      <td>tt0069113</td>\n      <td>The Poseidon Adventure</td>\n      <td>1972-12-13</td>\n      <td>84563118</td>\n      <td>117</td>\n    </tr>\n    <tr>\n      <th>2</th>\n      <td>0</td>\n      <td>[{'id': 18, 'name': 'Drama'}, {'id': 35, 'name...</td>\n      <td>552</td>\n      <td>tt0237539</td>\n      <td>Pane e tulipani</td>\n      <td>2000-03-03</td>\n      <td>8478434</td>\n      <td>114</td>\n    </tr>\n    <tr>\n      <th>3</th>\n      <td>10000000</td>\n      <td>[{'id': 80, 'name': 'Crime'}, {'id': 18, 'name...</td>\n      <td>553</td>\n      <td>tt0276919</td>\n      <td>Dogville</td>\n      <td>2003-05-19</td>\n      <td>16680836</td>\n      <td>178</td>\n    </tr>\n    <tr>\n      <th>4</th>\n      <td>0</td>\n      <td>[{'id': 18, 'name': 'Drama'}, {'id': 36, 'name...</td>\n      <td>554</td>\n      <td>tt0308476</td>\n      <td>Кукушка</td>\n      <td>2002-01-01</td>\n      <td>0</td>\n      <td>100</td>\n    </tr>\n    <tr>\n      <th>5</th>\n      <td>0</td>\n      <td>[{'id': 53, 'name': 'Thriller'}]</td>\n      <td>555</td>\n      <td>tt0442896</td>\n      <td>Absolut</td>\n      <td>2005-04-20</td>\n      <td>0</td>\n      <td>94</td>\n    </tr>\n  </tbody>\n</table>\n</div>"
     },
     "execution_count": 123,
     "metadata": {},
     "output_type": "execute_result"
    }
   ],
   "source": [
    "input_df"
   ],
   "metadata": {
    "collapsed": false,
    "pycharm": {
     "name": "#%%\n"
    }
   }
  },
  {
   "cell_type": "code",
   "execution_count": 124,
   "outputs": [],
   "source": [
    "genres_list = input_df['genres'].tolist()\n",
    "flat_list = [item for sublist in genres_list for item in sublist]"
   ],
   "metadata": {
    "collapsed": false,
    "pycharm": {
     "name": "#%%\n"
    }
   }
  },
  {
   "cell_type": "code",
   "execution_count": 125,
   "outputs": [
    {
     "data": {
      "text/plain": "[[{'id': 18, 'name': 'Drama'}],\n [{'id': 28, 'name': 'Action'},\n  {'id': 12, 'name': 'Adventure'},\n  {'id': 18, 'name': 'Drama'},\n  {'id': 53, 'name': 'Thriller'}],\n [{'id': 18, 'name': 'Drama'},\n  {'id': 35, 'name': 'Comedy'},\n  {'id': 10749, 'name': 'Romance'}],\n [{'id': 80, 'name': 'Crime'},\n  {'id': 18, 'name': 'Drama'},\n  {'id': 53, 'name': 'Thriller'}],\n [{'id': 18, 'name': 'Drama'},\n  {'id': 36, 'name': 'History'},\n  {'id': 10749, 'name': 'Romance'},\n  {'id': 35, 'name': 'Comedy'}],\n [{'id': 53, 'name': 'Thriller'}]]"
     },
     "execution_count": 125,
     "metadata": {},
     "output_type": "execute_result"
    }
   ],
   "source": [
    "genres_list"
   ],
   "metadata": {
    "collapsed": false,
    "pycharm": {
     "name": "#%%\n"
    }
   }
  },
  {
   "cell_type": "code",
   "execution_count": 126,
   "outputs": [
    {
     "data": {
      "text/plain": "[{'id': 18, 'name': 'Drama'},\n {'id': 28, 'name': 'Action'},\n {'id': 12, 'name': 'Adventure'},\n {'id': 18, 'name': 'Drama'},\n {'id': 53, 'name': 'Thriller'},\n {'id': 18, 'name': 'Drama'},\n {'id': 35, 'name': 'Comedy'},\n {'id': 10749, 'name': 'Romance'},\n {'id': 80, 'name': 'Crime'},\n {'id': 18, 'name': 'Drama'},\n {'id': 53, 'name': 'Thriller'},\n {'id': 18, 'name': 'Drama'},\n {'id': 36, 'name': 'History'},\n {'id': 10749, 'name': 'Romance'},\n {'id': 35, 'name': 'Comedy'},\n {'id': 53, 'name': 'Thriller'}]"
     },
     "execution_count": 126,
     "metadata": {},
     "output_type": "execute_result"
    }
   ],
   "source": [
    "flat_list"
   ],
   "metadata": {
    "collapsed": false,
    "pycharm": {
     "name": "#%%\n"
    }
   }
  },
  {
   "cell_type": "code",
   "execution_count": 127,
   "outputs": [
    {
     "name": "stdout",
     "output_type": "stream",
     "text": [
      "[['Drama'], ['Action', 'Adventure', 'Drama', 'Thriller'], ['Drama', 'Comedy', 'Romance'], ['Crime', 'Drama', 'Thriller'], ['Drama', 'History', 'Romance', 'Comedy'], ['Thriller']]\n"
     ]
    }
   ],
   "source": [
    "result = []\n",
    "for l in genres_list:\n",
    "    r = []\n",
    "    for d in l:\n",
    "        r.append(d['name'])\n",
    "    result.append(r)\n",
    "df = input_df.assign(genres_all=result)\n",
    "print(result)"
   ],
   "metadata": {
    "collapsed": false,
    "pycharm": {
     "name": "#%%\n"
    }
   }
  },
  {
   "cell_type": "code",
   "execution_count": 128,
   "outputs": [],
   "source": [
    "df_genres = pd.DataFrame.from_records(flat_list).drop_duplicates()"
   ],
   "metadata": {
    "collapsed": false,
    "pycharm": {
     "name": "#%%\n"
    }
   }
  },
  {
   "cell_type": "markdown",
   "source": [],
   "metadata": {
    "collapsed": false
   }
  },
  {
   "cell_type": "code",
   "execution_count": 129,
   "outputs": [
    {
     "data": {
      "text/plain": "       id       name\n0      18      Drama\n1      28     Action\n2      12  Adventure\n4      53   Thriller\n6      35     Comedy\n7   10749    Romance\n8      80      Crime\n12     36    History",
      "text/html": "<div>\n<style scoped>\n    .dataframe tbody tr th:only-of-type {\n        vertical-align: middle;\n    }\n\n    .dataframe tbody tr th {\n        vertical-align: top;\n    }\n\n    .dataframe thead th {\n        text-align: right;\n    }\n</style>\n<table border=\"1\" class=\"dataframe\">\n  <thead>\n    <tr style=\"text-align: right;\">\n      <th></th>\n      <th>id</th>\n      <th>name</th>\n    </tr>\n  </thead>\n  <tbody>\n    <tr>\n      <th>0</th>\n      <td>18</td>\n      <td>Drama</td>\n    </tr>\n    <tr>\n      <th>1</th>\n      <td>28</td>\n      <td>Action</td>\n    </tr>\n    <tr>\n      <th>2</th>\n      <td>12</td>\n      <td>Adventure</td>\n    </tr>\n    <tr>\n      <th>4</th>\n      <td>53</td>\n      <td>Thriller</td>\n    </tr>\n    <tr>\n      <th>6</th>\n      <td>35</td>\n      <td>Comedy</td>\n    </tr>\n    <tr>\n      <th>7</th>\n      <td>10749</td>\n      <td>Romance</td>\n    </tr>\n    <tr>\n      <th>8</th>\n      <td>80</td>\n      <td>Crime</td>\n    </tr>\n    <tr>\n      <th>12</th>\n      <td>36</td>\n      <td>History</td>\n    </tr>\n  </tbody>\n</table>\n</div>"
     },
     "execution_count": 129,
     "metadata": {},
     "output_type": "execute_result"
    }
   ],
   "source": [
    "df_genres"
   ],
   "metadata": {
    "collapsed": false,
    "pycharm": {
     "name": "#%%\n"
    }
   }
  },
  {
   "cell_type": "code",
   "execution_count": 130,
   "outputs": [],
   "source": [
    "\n",
    "df_columns = ['budget', 'id', 'imdb_id', 'original_title', 'release_date', 'revenue', 'runtime']\n",
    "df_genre_columns = df_genres['name'].to_list()\n",
    "df_columns.extend(df_genre_columns)"
   ],
   "metadata": {
    "collapsed": false,
    "pycharm": {
     "name": "#%%\n"
    }
   }
  },
  {
   "cell_type": "code",
   "execution_count": 131,
   "outputs": [
    {
     "data": {
      "text/plain": "0        Drama\n1       Action\n1    Adventure\n1        Drama\n1     Thriller\n2        Drama\n2       Comedy\n2      Romance\n3        Crime\n3        Drama\n3     Thriller\n4        Drama\n4      History\n4      Romance\n4       Comedy\n5     Thriller\nName: genres_all, dtype: object"
     },
     "execution_count": 131,
     "metadata": {},
     "output_type": "execute_result"
    }
   ],
   "source": [
    "s = df['genres_all'].explode()\n",
    "s"
   ],
   "metadata": {
    "collapsed": false,
    "pycharm": {
     "name": "#%%\n"
    }
   }
  },
  {
   "cell_type": "code",
   "execution_count": 132,
   "outputs": [
    {
     "data": {
      "text/plain": "Int64Index([0, 1, 1, 1, 1, 2, 2, 2, 3, 3, 3, 4, 4, 4, 4, 5], dtype='int64')"
     },
     "execution_count": 132,
     "metadata": {},
     "output_type": "execute_result"
    }
   ],
   "source": [
    "s.index"
   ],
   "metadata": {
    "collapsed": false,
    "pycharm": {
     "name": "#%%\n"
    }
   }
  },
  {
   "cell_type": "code",
   "execution_count": 133,
   "outputs": [
    {
     "data": {
      "text/plain": "genres_all  Action  Adventure  Comedy  Crime  Drama  History  Romance  \\\nrow_0                                                                   \n0                0          0       0      0      1        0        0   \n1                1          1       0      0      1        0        0   \n2                0          0       1      0      1        0        1   \n3                0          0       0      1      1        0        0   \n4                0          0       1      0      1        1        1   \n5                0          0       0      0      0        0        0   \n\ngenres_all  Thriller  \nrow_0                 \n0                  0  \n1                  1  \n2                  0  \n3                  1  \n4                  0  \n5                  1  ",
      "text/html": "<div>\n<style scoped>\n    .dataframe tbody tr th:only-of-type {\n        vertical-align: middle;\n    }\n\n    .dataframe tbody tr th {\n        vertical-align: top;\n    }\n\n    .dataframe thead th {\n        text-align: right;\n    }\n</style>\n<table border=\"1\" class=\"dataframe\">\n  <thead>\n    <tr style=\"text-align: right;\">\n      <th>genres_all</th>\n      <th>Action</th>\n      <th>Adventure</th>\n      <th>Comedy</th>\n      <th>Crime</th>\n      <th>Drama</th>\n      <th>History</th>\n      <th>Romance</th>\n      <th>Thriller</th>\n    </tr>\n    <tr>\n      <th>row_0</th>\n      <th></th>\n      <th></th>\n      <th></th>\n      <th></th>\n      <th></th>\n      <th></th>\n      <th></th>\n      <th></th>\n    </tr>\n  </thead>\n  <tbody>\n    <tr>\n      <th>0</th>\n      <td>0</td>\n      <td>0</td>\n      <td>0</td>\n      <td>0</td>\n      <td>1</td>\n      <td>0</td>\n      <td>0</td>\n      <td>0</td>\n    </tr>\n    <tr>\n      <th>1</th>\n      <td>1</td>\n      <td>1</td>\n      <td>0</td>\n      <td>0</td>\n      <td>1</td>\n      <td>0</td>\n      <td>0</td>\n      <td>1</td>\n    </tr>\n    <tr>\n      <th>2</th>\n      <td>0</td>\n      <td>0</td>\n      <td>1</td>\n      <td>0</td>\n      <td>1</td>\n      <td>0</td>\n      <td>1</td>\n      <td>0</td>\n    </tr>\n    <tr>\n      <th>3</th>\n      <td>0</td>\n      <td>0</td>\n      <td>0</td>\n      <td>1</td>\n      <td>1</td>\n      <td>0</td>\n      <td>0</td>\n      <td>1</td>\n    </tr>\n    <tr>\n      <th>4</th>\n      <td>0</td>\n      <td>0</td>\n      <td>1</td>\n      <td>0</td>\n      <td>1</td>\n      <td>1</td>\n      <td>1</td>\n      <td>0</td>\n    </tr>\n    <tr>\n      <th>5</th>\n      <td>0</td>\n      <td>0</td>\n      <td>0</td>\n      <td>0</td>\n      <td>0</td>\n      <td>0</td>\n      <td>0</td>\n      <td>1</td>\n    </tr>\n  </tbody>\n</table>\n</div>"
     },
     "execution_count": 133,
     "metadata": {},
     "output_type": "execute_result"
    }
   ],
   "source": [
    "cross_tab = pd.crosstab(s.index, s)\n",
    "cross_tab"
   ],
   "metadata": {
    "collapsed": false,
    "pycharm": {
     "name": "#%%\n"
    }
   }
  },
  {
   "cell_type": "code",
   "execution_count": 134,
   "outputs": [],
   "source": [
    "input_df = input_df.join(cross_tab)"
   ],
   "metadata": {
    "collapsed": false,
    "pycharm": {
     "name": "#%%\n"
    }
   }
  },
  {
   "cell_type": "code",
   "execution_count": 138,
   "outputs": [
    {
     "data": {
      "text/plain": "     budget                                             genres   id  \\\n0  63000000                      [{'id': 18, 'name': 'Drama'}]  550   \n1   5000000  [{'id': 28, 'name': 'Action'}, {'id': 12, 'nam...  551   \n2         0  [{'id': 18, 'name': 'Drama'}, {'id': 35, 'name...  552   \n3  10000000  [{'id': 80, 'name': 'Crime'}, {'id': 18, 'name...  553   \n4         0  [{'id': 18, 'name': 'Drama'}, {'id': 36, 'name...  554   \n5         0                   [{'id': 53, 'name': 'Thriller'}]  555   \n\n     imdb_id          original_title release_date    revenue  runtime  Action  \\\n0  tt0137523              Fight Club   1999-10-15  100853753      139       0   \n1  tt0069113  The Poseidon Adventure   1972-12-13   84563118      117       1   \n2  tt0237539         Pane e tulipani   2000-03-03    8478434      114       0   \n3  tt0276919                Dogville   2003-05-19   16680836      178       0   \n4  tt0308476                 Кукушка   2002-01-01          0      100       0   \n5  tt0442896                 Absolut   2005-04-20          0       94       0   \n\n   Adventure  Comedy  Crime  Drama  History  Romance  Thriller  day  month  \\\n0          0       0      0      1        0        0         0   15     10   \n1          1       0      0      1        0        0         1   13     12   \n2          0       1      0      1        0        1         0    3      3   \n3          0       0      1      1        0        0         1   19      5   \n4          0       1      0      1        1        1         0    1      1   \n5          0       0      0      0        0        0         1   20      4   \n\n   year day_of_week  \n0  1999      Friday  \n1  1972   Wednesday  \n2  2000      Friday  \n3  2003      Monday  \n4  2002     Tuesday  \n5  2005   Wednesday  ",
      "text/html": "<div>\n<style scoped>\n    .dataframe tbody tr th:only-of-type {\n        vertical-align: middle;\n    }\n\n    .dataframe tbody tr th {\n        vertical-align: top;\n    }\n\n    .dataframe thead th {\n        text-align: right;\n    }\n</style>\n<table border=\"1\" class=\"dataframe\">\n  <thead>\n    <tr style=\"text-align: right;\">\n      <th></th>\n      <th>budget</th>\n      <th>genres</th>\n      <th>id</th>\n      <th>imdb_id</th>\n      <th>original_title</th>\n      <th>release_date</th>\n      <th>revenue</th>\n      <th>runtime</th>\n      <th>Action</th>\n      <th>Adventure</th>\n      <th>Comedy</th>\n      <th>Crime</th>\n      <th>Drama</th>\n      <th>History</th>\n      <th>Romance</th>\n      <th>Thriller</th>\n      <th>day</th>\n      <th>month</th>\n      <th>year</th>\n      <th>day_of_week</th>\n    </tr>\n  </thead>\n  <tbody>\n    <tr>\n      <th>0</th>\n      <td>63000000</td>\n      <td>[{'id': 18, 'name': 'Drama'}]</td>\n      <td>550</td>\n      <td>tt0137523</td>\n      <td>Fight Club</td>\n      <td>1999-10-15</td>\n      <td>100853753</td>\n      <td>139</td>\n      <td>0</td>\n      <td>0</td>\n      <td>0</td>\n      <td>0</td>\n      <td>1</td>\n      <td>0</td>\n      <td>0</td>\n      <td>0</td>\n      <td>15</td>\n      <td>10</td>\n      <td>1999</td>\n      <td>Friday</td>\n    </tr>\n    <tr>\n      <th>1</th>\n      <td>5000000</td>\n      <td>[{'id': 28, 'name': 'Action'}, {'id': 12, 'nam...</td>\n      <td>551</td>\n      <td>tt0069113</td>\n      <td>The Poseidon Adventure</td>\n      <td>1972-12-13</td>\n      <td>84563118</td>\n      <td>117</td>\n      <td>1</td>\n      <td>1</td>\n      <td>0</td>\n      <td>0</td>\n      <td>1</td>\n      <td>0</td>\n      <td>0</td>\n      <td>1</td>\n      <td>13</td>\n      <td>12</td>\n      <td>1972</td>\n      <td>Wednesday</td>\n    </tr>\n    <tr>\n      <th>2</th>\n      <td>0</td>\n      <td>[{'id': 18, 'name': 'Drama'}, {'id': 35, 'name...</td>\n      <td>552</td>\n      <td>tt0237539</td>\n      <td>Pane e tulipani</td>\n      <td>2000-03-03</td>\n      <td>8478434</td>\n      <td>114</td>\n      <td>0</td>\n      <td>0</td>\n      <td>1</td>\n      <td>0</td>\n      <td>1</td>\n      <td>0</td>\n      <td>1</td>\n      <td>0</td>\n      <td>3</td>\n      <td>3</td>\n      <td>2000</td>\n      <td>Friday</td>\n    </tr>\n    <tr>\n      <th>3</th>\n      <td>10000000</td>\n      <td>[{'id': 80, 'name': 'Crime'}, {'id': 18, 'name...</td>\n      <td>553</td>\n      <td>tt0276919</td>\n      <td>Dogville</td>\n      <td>2003-05-19</td>\n      <td>16680836</td>\n      <td>178</td>\n      <td>0</td>\n      <td>0</td>\n      <td>0</td>\n      <td>1</td>\n      <td>1</td>\n      <td>0</td>\n      <td>0</td>\n      <td>1</td>\n      <td>19</td>\n      <td>5</td>\n      <td>2003</td>\n      <td>Monday</td>\n    </tr>\n    <tr>\n      <th>4</th>\n      <td>0</td>\n      <td>[{'id': 18, 'name': 'Drama'}, {'id': 36, 'name...</td>\n      <td>554</td>\n      <td>tt0308476</td>\n      <td>Кукушка</td>\n      <td>2002-01-01</td>\n      <td>0</td>\n      <td>100</td>\n      <td>0</td>\n      <td>0</td>\n      <td>1</td>\n      <td>0</td>\n      <td>1</td>\n      <td>1</td>\n      <td>1</td>\n      <td>0</td>\n      <td>1</td>\n      <td>1</td>\n      <td>2002</td>\n      <td>Tuesday</td>\n    </tr>\n    <tr>\n      <th>5</th>\n      <td>0</td>\n      <td>[{'id': 53, 'name': 'Thriller'}]</td>\n      <td>555</td>\n      <td>tt0442896</td>\n      <td>Absolut</td>\n      <td>2005-04-20</td>\n      <td>0</td>\n      <td>94</td>\n      <td>0</td>\n      <td>0</td>\n      <td>0</td>\n      <td>0</td>\n      <td>0</td>\n      <td>0</td>\n      <td>0</td>\n      <td>1</td>\n      <td>20</td>\n      <td>4</td>\n      <td>2005</td>\n      <td>Wednesday</td>\n    </tr>\n  </tbody>\n</table>\n</div>"
     },
     "execution_count": 138,
     "metadata": {},
     "output_type": "execute_result"
    }
   ],
   "source": [
    "input_df"
   ],
   "metadata": {
    "collapsed": false,
    "pycharm": {
     "name": "#%%\n"
    }
   }
  },
  {
   "cell_type": "code",
   "execution_count": 136,
   "outputs": [],
   "source": [
    "input_df['release_date'] = pd.to_datetime(input_df['release_date'])\n",
    "input_df['day'] = input_df['release_date'].dt.day\n",
    "input_df['month'] = input_df['release_date'].dt.month\n",
    "input_df['year'] = input_df['release_date'].dt.year\n",
    "input_df['day_of_week'] = input_df['release_date'].dt.day_name()\n",
    "df_time_columns = ['id', 'release_date', 'day', 'month', 'year', 'day_of_week']"
   ],
   "metadata": {
    "collapsed": false,
    "pycharm": {
     "name": "#%%\n"
    }
   }
  },
  {
   "cell_type": "code",
   "execution_count": 137,
   "outputs": [],
   "source": [
    "input_df[df_columns].to_csv('tmdb_movies.csv', index=False)\n",
    "df_genres.to_csv('tmdb_genres.csv', index=False)\n",
    "input_df[df_time_columns].to_csv('tmdb_datetimes.csv', index=False)"
   ],
   "metadata": {
    "collapsed": false,
    "pycharm": {
     "name": "#%%\n"
    }
   }
  },
  {
   "cell_type": "code",
   "execution_count": 137,
   "outputs": [],
   "source": [],
   "metadata": {
    "collapsed": false,
    "pycharm": {
     "name": "#%%\n"
    }
   }
  }
 ],
 "metadata": {
  "kernelspec": {
   "display_name": "Python 3",
   "language": "python",
   "name": "python3"
  },
  "language_info": {
   "codemirror_mode": {
    "name": "ipython",
    "version": 2
   },
   "file_extension": ".py",
   "mimetype": "text/x-python",
   "name": "python",
   "nbconvert_exporter": "python",
   "pygments_lexer": "ipython2",
   "version": "2.7.6"
  }
 },
 "nbformat": 4,
 "nbformat_minor": 0
}